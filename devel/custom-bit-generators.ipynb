{
 "cells": [
  {
   "cell_type": "markdown",
   "metadata": {
    "pycharm": {
     "name": "#%% md\n"
    }
   },
   "source": [
    "# Writing a BitGenerator\n",
    "\n",
    "The standard method to write a bit generator involves writing a Cython `pyx`\n",
    "file that wraps some C source code containing a high-performance\n",
    "implementation of a Pseudo RNG. This leads to best-case performance without\n",
    "creating any external dependencies.\n",
    "\n",
    "`UserBitGenerator` provides a simple wrapper class that allows users to write\n",
    "bit generators in pure Python or, if performance is an issue, using Cython or by\n",
    "accessing functions in a compiled library (e.g., a DLL).\n",
    "\n",
    "Here we look examine the steps needed to write a pure Python bit\n",
    "generator and higher-performance generator using Cython."
   ]
  },
  {
   "cell_type": "code",
   "execution_count": 1,
   "metadata": {
    "pycharm": {
     "name": "#%%\n"
    }
   },
   "outputs": [],
   "source": [
    "# Filter out some FutureWarnings\n",
    "\n",
    "import warnings\n",
    "\n",
    "warnings.filterwarnings(\"ignore\", \"RandomState\", FutureWarning)\n",
    "warnings.filterwarnings(\"ignore\", \"Generator\", FutureWarning)"
   ]
  },
  {
   "cell_type": "markdown",
   "metadata": {
    "pycharm": {
     "name": "#%% md\n"
    }
   },
   "source": [
    "## Using Python\n",
    "\n",
    "The example here beings by writing a class that implements the PCG64\n",
    "bit generator using the XSL-RR output transformation. While this is not\n",
    "a complete implementation (it does not support `advance` or `seed`),\n",
    "it is simple. The key to understanding PCG is that the underlying state\n",
    "is updated using a [Linear Congruential Generator (LCG)](https://en.wikipedia.org/wik/Linear_congruential_generator)\n",
    "that uses a 128-bit state, multiplier and increment. The state evolves according to\n",
    "\n",
    "$$ s_{n+1} = m s_{n} + i $$\n",
    "\n",
    "where $s$ is the state, $m$ is the multiplier and $i$ is the increment.\n",
    "\n",
    "The PCG generator then transforms $s_{n+1}$ to produce the the final output. The XLS-RR\n",
    "output function XORs the upper 64 bits of the state with the lower\n",
    "64 bits before applying a random rotation of this value.\n",
    "\n",
    "The code below implements this generator using built-in Python operations\n",
    "and a little NumPy."
   ]
  },
  {
   "cell_type": "code",
   "execution_count": 2,
   "metadata": {
    "collapsed": false,
    "jupyter": {
     "outputs_hidden": false
    },
    "pycharm": {
     "name": "#%%\n"
    }
   },
   "outputs": [],
   "source": [
    "import numpy as np\n",
    "\n",
    "# The rotation\n",
    "def rotr_64(value, rot):\n",
    "    value = np.uint64(value)\n",
    "    rot = np.uint64(rot)\n",
    "    return int((value >> rot) | (value << ((-rot) & np.uint(63))))\n",
    "\n",
    "\n",
    "class PythonPCG64:\n",
    "    # A 128 bit multiplier\n",
    "    PCG_DEFAULT_MULTIPLIER = (2549297995355413924 << 64) + 4865540595714422341\n",
    "    MODULUS = 2 ** 128\n",
    "\n",
    "    def __init__(self, state, inc):\n",
    "        \"\"\"Directly set the state and increment, no seed support\"\"\"\n",
    "        self.state = state\n",
    "        self.inc = inc\n",
    "        self._has_uint32 = False\n",
    "        self._uinteger = 0\n",
    "        self._next_32 = self._next_64 = None\n",
    "\n",
    "    def random_raw(self):\n",
    "        \"\"\"Generate the next \"raw\" value, which is 64 bits\"\"\"\n",
    "        state = self.state * self.PCG_DEFAULT_MULTIPLIER + self.inc\n",
    "        state = state % self.MODULUS\n",
    "        self.state = state\n",
    "        return rotr_64((state >> 64) ^ (state & 0xFFFFFFFFFFFFFFFF), state >> 122)\n",
    "\n",
    "    @property\n",
    "    def next_64(self):\n",
    "        \"\"\"\n",
    "        Return a callable that accepts a single input. The input is usually\n",
    "        a void pointer that is cast to a struct that contains the PRNGs\n",
    "        state. When wiring a bit generator in Python, it is simpler to use\n",
    "        a closure than to wrap the state in an array, pass it's address as a\n",
    "        ctypes void pointer, and then to get the pointer in the function.\n",
    "        \"\"\"\n",
    "        def _next_64(void_p):\n",
    "            return self.random_raw()\n",
    "        \n",
    "        self._next_64 = _next_64\n",
    "        return _next_64\n",
    "\n",
    "    @property\n",
    "    def next_32(self):\n",
    "        \"\"\"\n",
    "        Return a callable that accepts a single input. This is identical to\n",
    "        ``next_64`` except that it return a 32-bit unsigned int. Here we save\n",
    "        half of the raw 64 bit output for subsequent calls.\n",
    "        \"\"\"\n",
    "        def _next_32(void_p):\n",
    "            if self._has_uint32:\n",
    "                self._has_uint32 = False\n",
    "                return self._uinteger\n",
    "            next_value = self.random_raw()\n",
    "            self._has_uint32 = True\n",
    "            self._uinteger = next_value >> 32\n",
    "            return next_value & 0xFFFFFFFF\n",
    "\n",
    "        self._next_32 = _next_32\n",
    "        return _next_32\n",
    "    \n",
    "    @property\n",
    "    def state_getter(self):\n",
    "        def f():\n",
    "            return {\"state\": self.state, \"inc\": self.inc}\n",
    "        return f\n",
    "\n",
    "    @property\n",
    "    def state_setter(self):\n",
    "        def f(value):\n",
    "            self.state = value[\"state\"]\n",
    "            self.inc = value[\"inc\"]\n",
    "        return f\n"
   ]
  },
  {
   "cell_type": "markdown",
   "metadata": {
    "pycharm": {
     "name": "#%% md\n"
    }
   },
   "source": [
    "Next, we use `UserBitGenerator` to expose the Python functions to C.\n",
    "The Python functions are wrapped in Ctypes callbacks under the hood."
   ]
  },
  {
   "cell_type": "code",
   "execution_count": 3,
   "metadata": {
    "collapsed": false,
    "jupyter": {
     "outputs_hidden": false
    },
    "pycharm": {
     "name": "#%%\n"
    }
   },
   "outputs": [
    {
     "name": "stdout",
     "output_type": "stream",
     "text": [
      "Get the state from a seeded PCG64\n",
      "{'state': 168573994392035485979667429847573090803, 'inc': 1}\n",
      "State and increment are identical\n",
      "{'state': 168573994392035485979667429847573090803, 'inc': 1}\n",
      "First 5 values from PythonPCG64\n",
      "[17589501946320304812  4238265634445818190  2962725298318311686\n",
      "  8662843047148884465 14592389037209137702]\n",
      "Matches official C version\n",
      "[17589501946320304812  4238265634445818190  2962725298318311686\n",
      "  8662843047148884465 14592389037209137702]\n"
     ]
    }
   ],
   "source": [
    "from randomgen import PCG64, UserBitGenerator\n",
    "\n",
    "pcg = PCG64(0, mode=\"sequence\", variant=\"xsl-rr\")\n",
    "state, inc = pcg.state[\"state\"][\"state\"], pcg.state[\"state\"][\"inc\"]\n",
    "print(\"Get the state from a seeded PCG64\")\n",
    "print(pcg.state[\"state\"])\n",
    "prng = PythonPCG64(state, inc)\n",
    "print(\"State and increment are identical\")\n",
    "print(prng.state_getter())\n",
    "python_pcg = UserBitGenerator(prng.next_64, 64, next_32=prng.next_32)\n",
    "print(\"First 5 values from PythonPCG64\")\n",
    "print(python_pcg.random_raw(5))\n",
    "print(\"Matches official C version\")\n",
    "print(pcg.random_raw(5))"
   ]
  },
  {
   "cell_type": "markdown",
   "metadata": {
    "pycharm": {
     "name": "#%% md\n"
    }
   },
   "source": [
    "`python_pcg` _is_ a bit generator, and so can be used with a NumPy `Generator`.\n",
    "Here we see the state changes after producing a single standard normal."
   ]
  },
  {
   "cell_type": "code",
   "execution_count": 4,
   "metadata": {
    "collapsed": false,
    "jupyter": {
     "outputs_hidden": false
    },
    "pycharm": {
     "name": "#%%\n"
    }
   },
   "outputs": [
    {
     "name": "stdout",
     "output_type": "stream",
     "text": [
      "Before: 223347365555069667157438957040342502044\n",
      "Std. Normal : -0.32247746250377424\n",
      "After: 57149987494923580281468740370759435277\n"
     ]
    }
   ],
   "source": [
    "from numpy.random import Generator\n",
    "gen = Generator(python_pcg)\n",
    "print(f\"Before: {prng.state}\")\n",
    "print(f\"Std. Normal : {gen.standard_normal()}\")\n",
    "print(f\"After: {prng.state}\")"
   ]
  },
  {
   "cell_type": "markdown",
   "metadata": {},
   "source": [
    "This time the `state_getter` and `state_setter` are used to that the state can be read and set through the bit generator."
   ]
  },
  {
   "cell_type": "code",
   "execution_count": 5,
   "metadata": {
    "collapsed": false,
    "jupyter": {
     "outputs_hidden": false
    },
    "pycharm": {
     "name": "#%%\n"
    }
   },
   "outputs": [
    {
     "data": {
      "text/plain": [
       "{'state': 57149987494923580281468740370759435277, 'inc': 1}"
      ]
     },
     "execution_count": 5,
     "metadata": {},
     "output_type": "execute_result"
    }
   ],
   "source": [
    "python_pcg = UserBitGenerator(prng.next_64, 64, next_32=prng.next_32, state_getter=prng.state_getter, state_setter=prng.state_setter)\n",
    "python_pcg.state"
   ]
  },
  {
   "cell_type": "markdown",
   "metadata": {},
   "source": [
    "Accessing `python_pcg.state` would raise `NotImplementedError`. It is possible to\n",
    "wire up this function by setting `state_setter` and `state_getter` in `UserBitGenerator`.\n",
    "These both take callable function"
   ]
  },
  {
   "cell_type": "markdown",
   "metadata": {},
   "source": [
    "### Performance\n",
    "We can time `random_raw` to see how fast (**slow**) the pure python version is. It is about 3 orders-of-magnitude (1000x) slower than the C implementation."
   ]
  },
  {
   "cell_type": "code",
   "execution_count": 6,
   "metadata": {
    "collapsed": false,
    "jupyter": {
     "outputs_hidden": false
    },
    "pycharm": {
     "name": "#%%\n"
    }
   },
   "outputs": [
    {
     "name": "stdout",
     "output_type": "stream",
     "text": [
      "2.38 ms ± 14.9 µs per loop (mean ± std. dev. of 7 runs, 100 loops each)\n",
      "4.03 µs ± 43 ns per loop (mean ± std. dev. of 7 runs, 100000 loops each)\n"
     ]
    }
   ],
   "source": [
    "%timeit python_pcg.random_raw(1000)\n",
    "%timeit pcg.random_raw(1000)"
   ]
  },
  {
   "cell_type": "markdown",
   "metadata": {},
   "source": [
    "## Using numba\n",
    "\n",
    "A bit generator implemented in Numba can be used through the `UserBitGenerator.from_cfunc` interface. The close block below implements the SplitMix64 generator using numba. This generator mixes the output of an additive congruential generator (LCG with $m=1$) using the [Murmur 3 hash](https://en.wikipedia.org/wiki/MurmurHash). \n",
    "\n",
    "The key outputs of the manager class are `next_64`, `next_32`, and `next_double`, which are all decorated using numba's `@cfunc`. \n",
    "\n",
    "**Note**: SplitMix64 was used because it is simple to implement. PCG could be implemented with some extra effort needed to update the state since it uses 128-bit unsigned integers which have [no direct support in numba](https://github.com/numba/numba/issues/2600)."
   ]
  },
  {
   "cell_type": "code",
   "execution_count": 7,
   "metadata": {
    "collapsed": false,
    "jupyter": {
     "outputs_hidden": false
    },
    "pycharm": {
     "name": "#%%\n"
    }
   },
   "outputs": [],
   "source": [
    "import ctypes\n",
    "\n",
    "import numpy as np\n",
    "from numba import cfunc, types, carray, jit\n",
    "\n",
    "from randomgen.generator import Generator\n",
    "from randomgen.wrapper import UserBitGenerator\n",
    "\n",
    "\n",
    "murmur_hash_3_sig = types.uint64(types.uint64)\n",
    "\n",
    "\n",
    "@jit(signature_or_function=murmur_hash_3_sig, inline=\"always\")\n",
    "def murmur_hash_3(z):\n",
    "    \"\"\"The hash function\"\"\"\n",
    "    z = (z ^ (z >> np.uint64(30))) * np.uint64(0xBF58476D1CE4E5B9)\n",
    "    z = (z ^ (z >> np.uint64(27))) * np.uint64(0x94D049BB133111EB)\n",
    "    return z ^ (z >> np.uint64(31))\n",
    "\n",
    "\n",
    "split_mix_next_sig = types.uint64(types.uint64[:])\n",
    "\n",
    "\n",
    "@jit(signature_or_function=split_mix_next_sig, inline=\"always\")\n",
    "def splitmix_next(state):\n",
    "    \"\"\"Update the state in place and then hash\"\"\"\n",
    "    state[0] += 0x9E3779B97F4A7C15\n",
    "    return murmur_hash_3(state[0])\n",
    "\n",
    "\n",
    "class NumbaSplitMix64:\n",
    "    def __init__(self, state):\n",
    "        if not isinstance(state, (int, np.integer)) or not (0 <= state < 2 ** 64):\n",
    "            raise ValueError(\"state must be a valid uint64\")\n",
    "        # state[0] is the splitmix64 state\n",
    "        # state[1] contains both the has_uint flag in bit 0\n",
    "        #   uinteger in bits 32...63\n",
    "        self._state = np.array([state, 0], dtype=np.uint64)\n",
    "        self._next_raw = None\n",
    "        self._next_64 = None\n",
    "        self._next_32 = None\n",
    "        self._next_double = None\n",
    "\n",
    "    @property\n",
    "    def state_address(self):\n",
    "        \"\"\"Get the location in memory of the state NumPy array.\"\"\"\n",
    "        return self._state.ctypes.data_as(ctypes.c_void_p)\n",
    "\n",
    "    @property\n",
    "    def next_64(self):\n",
    "        \"\"\"Same as raw since a 64 bit generator\"\"\"\n",
    "\n",
    "        # Ensure a reference is held\n",
    "        self._next_64 = self.next_raw\n",
    "\n",
    "        return self.next_raw\n",
    "\n",
    "    @property\n",
    "    def next_32(self):\n",
    "        \"\"\"A CFunc generating the next 32 bits\"\"\"\n",
    "        sig = types.uint32(types.CPointer(types.uint64))\n",
    "\n",
    "        @cfunc(sig)\n",
    "        def next_32(st):\n",
    "            # Get the NumPy uint64 array\n",
    "            bit_gen_state = carray(st, (2,), dtype=np.uint64)\n",
    "            # We use the first bit to indicate that 32 bits are stored in 32...63\n",
    "            if bit_gen_state[1] & np.uint64(0x1):\n",
    "                # Get the upper 32 bits\n",
    "                out = bit_gen_state[1] >> np.uint64(32)\n",
    "                # Clear the stored value\n",
    "                bit_gen_state[1] = 0\n",
    "                return out\n",
    "            # If no bits available, genrate a new value\n",
    "            z = splitmix_next(bit_gen_state)\n",
    "            # Store the new value always with 1 in bit 0\n",
    "            bit_gen_state[1] = z | np.uint64(0x1)\n",
    "            # Return the lower 32 (0...31)\n",
    "            return z & 0xFFFFFFFF\n",
    "\n",
    "        # Ensure a reference is held\n",
    "        self._next_32 = next_32\n",
    "\n",
    "        return next_32\n",
    "\n",
    "    @property\n",
    "    def next_double(self):\n",
    "        \"\"\"A CFunc that generates the next ouble\"\"\"\n",
    "        sig = types.double(types.CPointer(types.uint64))\n",
    "\n",
    "        @cfunc(sig)\n",
    "        def next_double(st):\n",
    "            # Get the state\n",
    "            bit_gen_state = carray(st, (2,), dtype=np.uint64)\n",
    "            # Return the next value / 2**53\n",
    "            return (\n",
    "                np.uint64(splitmix_next(bit_gen_state)) >> np.uint64(11)\n",
    "            ) / 9007199254740992.0\n",
    "\n",
    "        # Ensure a reference is held\n",
    "        self._next_double = next_double\n",
    "\n",
    "        return next_double\n",
    "\n",
    "    @property\n",
    "    def next_raw(self):\n",
    "        sig = types.uint64(types.CPointer(types.uint64))\n",
    "\n",
    "        @cfunc(sig)\n",
    "        def next_64(st):\n",
    "            # Get the NumPy array containing the state\n",
    "            bit_gen_state = carray(st, (2,), dtype=np.uint64)\n",
    "            # Return the next value\n",
    "            return splitmix_next(bit_gen_state)\n",
    "\n",
    "        # Ensure a reference is held\n",
    "        self._next_64 = next_64\n",
    "\n",
    "        return next_64\n",
    "\n",
    "    @property\n",
    "    def state_getter(self):\n",
    "        \"\"\"A function that returns the state. This is Python and is not decorated\"\"\"\n",
    "        def f() -> dict:\n",
    "            return {\n",
    "                \"bit_gen\": type(self).__name__,\n",
    "                \"state\": self._state[0],\n",
    "                \"has_uint\": self._state[1] & np.uint64(0x1),\n",
    "                \"uinteger\": self._state[1] >> np.uint64(32),\n",
    "            }\n",
    "\n",
    "        return f\n",
    "\n",
    "    @property\n",
    "    def state_setter(self):\n",
    "        \"\"\"A function that sets the state. This is Python and is not decorated\"\"\"\n",
    "        def f(value: dict):\n",
    "            name = value.get(\"bit_gen\", None)\n",
    "            if name != type(self).__name__:\n",
    "                raise ValueError(f\"state must be from a {type(self).__name__}\")\n",
    "            self._state[0] = np.uint64(value[\"state\"])\n",
    "            temp = np.uint64(value[\"uinteger\"]) << np.uint64(32)\n",
    "            temp |= np.uint64(value[\"has_uint\"]) & np.uint64(0x1)\n",
    "            self._state[1] = temp\n",
    "\n",
    "        return f"
   ]
  },
  {
   "cell_type": "markdown",
   "metadata": {},
   "source": [
    "We start by instantizing the class and taking a look at the initial state."
   ]
  },
  {
   "cell_type": "code",
   "execution_count": 8,
   "metadata": {
    "collapsed": false,
    "jupyter": {
     "outputs_hidden": false
    },
    "pycharm": {
     "name": "#%%\n"
    }
   },
   "outputs": [
    {
     "data": {
      "text/plain": [
       "{'bit_gen': 'NumbaSplitMix64',\n",
       " 'state': 1067703942092643959,\n",
       " 'has_uint': 0,\n",
       " 'uinteger': 0}"
      ]
     },
     "execution_count": 8,
     "metadata": {},
     "output_type": "execute_result"
    }
   ],
   "source": [
    "# From random.org\n",
    "state = np.array([0x77, 0x5e, 0xb7, 0x11, 0x14, 0x3f, 0xd1, 0x0e], dtype=np.uint8).view(np.uint64)[0]\n",
    "nsm = NumbaSplitMix64(state)\n",
    "nsm.state_getter()"
   ]
  },
  {
   "cell_type": "markdown",
   "metadata": {},
   "source": [
    "`from_cfunc` is then used to pass the `CFunc`s, state address pointer and the state getter and setter to `UserBitGenerator`. We see that the state changes after calling `random_raw`."
   ]
  },
  {
   "cell_type": "code",
   "execution_count": 9,
   "metadata": {
    "collapsed": false,
    "jupyter": {
     "outputs_hidden": false
    },
    "pycharm": {
     "name": "#%%\n"
    }
   },
   "outputs": [
    {
     "name": "stdout",
     "output_type": "stream",
     "text": [
      "{'bit_gen': 'NumbaSplitMix64', 'state': 1067703942092643959, 'has_uint': 0, 'uinteger': 0}\n",
      "[6167196305974902360 9866841637329706610]\n",
      "{'bit_gen': 'NumbaSplitMix64', 'state': 5422389507029489313, 'has_uint': 0, 'uinteger': 0}\n"
     ]
    }
   ],
   "source": [
    "split_mix = UserBitGenerator.from_cfunc(nsm.next_raw, nsm.next_64, nsm.next_32, nsm.next_double, nsm.state_address, \n",
    "                                        state_getter=nsm.state_getter, state_setter=nsm.state_setter)\n",
    "print(split_mix.state)\n",
    "print(split_mix.random_raw(2))\n",
    "print(split_mix.state)"
   ]
  },
  {
   "cell_type": "markdown",
   "metadata": {},
   "source": [
    "Some `Generator` function use 32-bit integers to save bits. `random` with `dtype=np.float32` is one.  After calling this function we see that `has_uint` is now 1."
   ]
  },
  {
   "cell_type": "code",
   "execution_count": 10,
   "metadata": {
    "collapsed": false,
    "jupyter": {
     "outputs_hidden": false
    },
    "pycharm": {
     "name": "#%%\n"
    }
   },
   "outputs": [
    {
     "name": "stdout",
     "output_type": "stream",
     "text": [
      "A 32-bit float: 0.9973556995391846\n",
      "Notice has_uint is now 1\n"
     ]
    },
    {
     "data": {
      "text/plain": [
       "{'bit_gen': 'NumbaSplitMix64',\n",
       " 'state': 16823104326352687798,\n",
       " 'has_uint': 1,\n",
       " 'uinteger': 1192548665}"
      ]
     },
     "execution_count": 10,
     "metadata": {},
     "output_type": "execute_result"
    }
   ],
   "source": [
    "gen = Generator(split_mix)\n",
    "print(f\"A 32-bit float: {gen.random(dtype=np.float32)}\")\n",
    "print(\"Notice has_uint is now 1\")\n",
    "gen.state"
   ]
  },
  {
   "cell_type": "markdown",
   "metadata": {},
   "source": [
    "### Performance \n",
    "We can use `random_raw` function to assess the performance and compare it to PCG64. It is a bit faster as it should be since it is simpler."
   ]
  },
  {
   "cell_type": "code",
   "execution_count": 11,
   "metadata": {
    "collapsed": false,
    "jupyter": {
     "outputs_hidden": false
    },
    "pycharm": {
     "name": "#%%\n"
    }
   },
   "outputs": [
    {
     "name": "stdout",
     "output_type": "stream",
     "text": [
      "2.81 ms ± 25 µs per loop (mean ± std. dev. of 7 runs, 100 loops each)\n"
     ]
    }
   ],
   "source": [
    "%timeit split_mix.random_raw(1000000)"
   ]
  },
  {
   "cell_type": "code",
   "execution_count": 12,
   "metadata": {},
   "outputs": [
    {
     "name": "stdout",
     "output_type": "stream",
     "text": [
      "3.07 ms ± 12.1 µs per loop (mean ± std. dev. of 7 runs, 100 loops each)\n"
     ]
    }
   ],
   "source": [
    "%timeit pcg.random_raw(1000000)"
   ]
  }
 ],
 "metadata": {
  "kernelspec": {
   "display_name": "Python 3",
   "language": "python",
   "name": "python3"
  },
  "language_info": {
   "codemirror_mode": {
    "name": "ipython",
    "version": 3
   },
   "file_extension": ".py",
   "mimetype": "text/x-python",
   "name": "python",
   "nbconvert_exporter": "python",
   "pygments_lexer": "ipython3",
   "version": "3.7.7"
  }
 },
 "nbformat": 4,
 "nbformat_minor": 4
}
